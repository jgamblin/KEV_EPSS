{
 "cells": [
  {
   "cell_type": "markdown",
   "metadata": {},
   "source": [
    "# CISA KVE EPSS Data Analyis "
   ]
  },
  {
   "cell_type": "code",
   "execution_count": 1,
   "metadata": {
    "execution": {
     "iopub.execute_input": "2025-10-05T00:34:33.586095Z",
     "iopub.status.busy": "2025-10-05T00:34:33.585818Z",
     "iopub.status.idle": "2025-10-05T00:34:34.221971Z",
     "shell.execute_reply": "2025-10-05T00:34:34.221275Z"
    }
   },
   "outputs": [],
   "source": [
    "import pandas as pd\n",
    "import json\n",
    "import requests\n",
    "import os\n",
    "import glob\n",
    "import numpy as np"
   ]
  },
  {
   "cell_type": "code",
   "execution_count": 2,
   "metadata": {
    "execution": {
     "iopub.execute_input": "2025-10-05T00:34:34.224440Z",
     "iopub.status.busy": "2025-10-05T00:34:34.224200Z",
     "iopub.status.idle": "2025-10-05T00:34:34.512157Z",
     "shell.execute_reply": "2025-10-05T00:34:34.511442Z"
    }
   },
   "outputs": [],
   "source": [
    "cisa_df = pd.read_csv(\"https://www.cisa.gov/sites/default/files/csv/known_exploited_vulnerabilities.csv\")\n",
    "cisa_df = cisa_df\n",
    "cisa_df.columns = cisa_df.columns.str.strip(\"\\u200b\")\n",
    "cisa_df = cisa_df.rename(columns={\"cveID\": \"CVE\", \"shortDescription\" : \"Description\", \"vendorProject\" : \"Vendor\", \"product\" : \"Product\"})"
   ]
  },
  {
   "cell_type": "code",
   "execution_count": 3,
   "metadata": {
    "execution": {
     "iopub.execute_input": "2025-10-05T00:34:34.514498Z",
     "iopub.status.busy": "2025-10-05T00:34:34.514304Z",
     "iopub.status.idle": "2025-10-05T00:34:34.644308Z",
     "shell.execute_reply": "2025-10-05T00:34:34.643620Z"
    }
   },
   "outputs": [],
   "source": [
    "epss = pd.read_csv('epss_scores-current.csv', skiprows=1)\n",
    "epss = epss.rename(columns={\"cve\": \"CVE\", \"epss\" : \"EPSS\", \"percentile\" : \"EPSS Percentile\"})"
   ]
  },
  {
   "cell_type": "code",
   "execution_count": 4,
   "metadata": {
    "execution": {
     "iopub.execute_input": "2025-10-05T00:34:34.646579Z",
     "iopub.status.busy": "2025-10-05T00:34:34.646383Z",
     "iopub.status.idle": "2025-10-05T00:35:14.684754Z",
     "shell.execute_reply": "2025-10-05T00:35:14.684033Z"
    }
   },
   "outputs": [],
   "source": [
    "row_accumulator = []\n",
    "for filename in glob.glob('nvdcve-2.0-*.json'):\n",
    "    with open(filename, 'r', encoding='utf-8') as f:\n",
    "        nvd_data = json.load(f)\n",
    "        for entry in nvd_data['vulnerabilities']:\n",
    "            cve = entry['cve']['id']\n",
    "            base_score = 0.0\n",
    "            metrics = entry['cve'].get('metrics', {})\n",
    "            cvss_v31 = metrics.get('cvssMetricV31', [{}])\n",
    "            if cvss_v31 and 'cvssData' in cvss_v31[0]:\n",
    "                base_score = cvss_v31[0]['cvssData'].get('baseScore', 0.0)\n",
    "            new_row = {\n",
    "                'CVE': cve,\n",
    "                'CVSS3': base_score,\n",
    "            }\n",
    "            row_accumulator.append(new_row)\n",
    "\n",
    "# Create DataFrame after all files are processed\n",
    "nvd = pd.DataFrame(row_accumulator)\n",
    "nvd['CVSS3'] = pd.to_numeric(nvd['CVSS3'])\n",
    "nvd['CVSS3'] = nvd['CVSS3'].replace(0, np.nan)"
   ]
  },
  {
   "cell_type": "code",
   "execution_count": 5,
   "metadata": {
    "execution": {
     "iopub.execute_input": "2025-10-05T00:35:14.687019Z",
     "iopub.status.busy": "2025-10-05T00:35:14.686825Z",
     "iopub.status.idle": "2025-10-05T00:35:14.825088Z",
     "shell.execute_reply": "2025-10-05T00:35:14.824435Z"
    }
   },
   "outputs": [],
   "source": [
    "epss_kev = pd.merge(cisa_df, epss, left_on='CVE', right_on='CVE')\n",
    "epss_kev_nvd =  pd.merge(epss_kev, nvd, left_on='CVE', right_on='CVE')\n",
    "epss_kev_nvd =  epss_kev_nvd[[\"CVE\", \"CVSS3\", \"EPSS\", \"EPSS Percentile\", \"Description\", \"Vendor\", \"Product\"]]"
   ]
  },
  {
   "cell_type": "code",
   "execution_count": 6,
   "metadata": {
    "execution": {
     "iopub.execute_input": "2025-10-05T00:35:14.827236Z",
     "iopub.status.busy": "2025-10-05T00:35:14.827023Z",
     "iopub.status.idle": "2025-10-05T00:35:14.840470Z",
     "shell.execute_reply": "2025-10-05T00:35:14.839805Z"
    }
   },
   "outputs": [
    {
     "data": {
      "text/html": [
       "<div>\n",
       "<style scoped>\n",
       "    .dataframe tbody tr th:only-of-type {\n",
       "        vertical-align: middle;\n",
       "    }\n",
       "\n",
       "    .dataframe tbody tr th {\n",
       "        vertical-align: top;\n",
       "    }\n",
       "\n",
       "    .dataframe thead th {\n",
       "        text-align: right;\n",
       "    }\n",
       "</style>\n",
       "<table border=\"1\" class=\"dataframe\">\n",
       "  <thead>\n",
       "    <tr style=\"text-align: right;\">\n",
       "      <th></th>\n",
       "      <th>CVE</th>\n",
       "      <th>CVSS3</th>\n",
       "      <th>EPSS</th>\n",
       "      <th>EPSS Percentile</th>\n",
       "      <th>Description</th>\n",
       "      <th>Vendor</th>\n",
       "      <th>Product</th>\n",
       "    </tr>\n",
       "  </thead>\n",
       "  <tbody>\n",
       "    <tr>\n",
       "      <th>0</th>\n",
       "      <td>CVE-2014-6278</td>\n",
       "      <td>8.8</td>\n",
       "      <td>0.91613</td>\n",
       "      <td>0.99663</td>\n",
       "      <td>GNU Bash contains an OS command injection vuln...</td>\n",
       "      <td>GNU</td>\n",
       "      <td>GNU Bash</td>\n",
       "    </tr>\n",
       "    <tr>\n",
       "      <th>1</th>\n",
       "      <td>CVE-2017-1000353</td>\n",
       "      <td>9.8</td>\n",
       "      <td>0.94508</td>\n",
       "      <td>0.99999</td>\n",
       "      <td>Jenkins contains a remote code execution vulne...</td>\n",
       "      <td>Jenkins</td>\n",
       "      <td>Jenkins</td>\n",
       "    </tr>\n",
       "    <tr>\n",
       "      <th>2</th>\n",
       "      <td>CVE-2015-7755</td>\n",
       "      <td>9.8</td>\n",
       "      <td>0.91206</td>\n",
       "      <td>0.99636</td>\n",
       "      <td>Juniper ScreenOS contains an improper authenti...</td>\n",
       "      <td>Juniper</td>\n",
       "      <td>ScreenOS</td>\n",
       "    </tr>\n",
       "    <tr>\n",
       "      <th>3</th>\n",
       "      <td>CVE-2025-21043</td>\n",
       "      <td>8.8</td>\n",
       "      <td>0.11622</td>\n",
       "      <td>0.93378</td>\n",
       "      <td>Samsung mobile devices contain an out-of-bound...</td>\n",
       "      <td>Samsung</td>\n",
       "      <td>Mobile Devices</td>\n",
       "    </tr>\n",
       "    <tr>\n",
       "      <th>4</th>\n",
       "      <td>CVE-2025-4008</td>\n",
       "      <td>8.8</td>\n",
       "      <td>0.41761</td>\n",
       "      <td>0.97323</td>\n",
       "      <td>Smartbedded Meteobridge contains a command inj...</td>\n",
       "      <td>Smartbedded</td>\n",
       "      <td>Meteobridge</td>\n",
       "    </tr>\n",
       "    <tr>\n",
       "      <th>...</th>\n",
       "      <td>...</td>\n",
       "      <td>...</td>\n",
       "      <td>...</td>\n",
       "      <td>...</td>\n",
       "      <td>...</td>\n",
       "      <td>...</td>\n",
       "      <td>...</td>\n",
       "    </tr>\n",
       "    <tr>\n",
       "      <th>1422</th>\n",
       "      <td>CVE-2021-27561</td>\n",
       "      <td>9.8</td>\n",
       "      <td>0.94106</td>\n",
       "      <td>0.99902</td>\n",
       "      <td>Yealink Device Management contains a server-si...</td>\n",
       "      <td>Yealink</td>\n",
       "      <td>Device Management</td>\n",
       "    </tr>\n",
       "    <tr>\n",
       "      <th>1423</th>\n",
       "      <td>CVE-2021-40539</td>\n",
       "      <td>9.8</td>\n",
       "      <td>0.94424</td>\n",
       "      <td>0.99979</td>\n",
       "      <td>Zoho ManageEngine ADSelfService Plus contains ...</td>\n",
       "      <td>Zoho</td>\n",
       "      <td>ManageEngine</td>\n",
       "    </tr>\n",
       "    <tr>\n",
       "      <th>1424</th>\n",
       "      <td>CVE-2020-10189</td>\n",
       "      <td>9.8</td>\n",
       "      <td>0.94248</td>\n",
       "      <td>0.99924</td>\n",
       "      <td>Zoho ManageEngine Desktop Central contains a f...</td>\n",
       "      <td>Zoho</td>\n",
       "      <td>ManageEngine</td>\n",
       "    </tr>\n",
       "    <tr>\n",
       "      <th>1425</th>\n",
       "      <td>CVE-2019-8394</td>\n",
       "      <td>6.5</td>\n",
       "      <td>0.87936</td>\n",
       "      <td>0.99441</td>\n",
       "      <td>Zoho ManageEngine ServiceDesk Plus (SDP) conta...</td>\n",
       "      <td>Zoho</td>\n",
       "      <td>ManageEngine</td>\n",
       "    </tr>\n",
       "    <tr>\n",
       "      <th>1426</th>\n",
       "      <td>CVE-2020-29583</td>\n",
       "      <td>9.8</td>\n",
       "      <td>0.94036</td>\n",
       "      <td>0.99894</td>\n",
       "      <td>Zyxel firewalls (ATP, USG, VM) and AP Controll...</td>\n",
       "      <td>Zyxel</td>\n",
       "      <td>Multiple Products</td>\n",
       "    </tr>\n",
       "  </tbody>\n",
       "</table>\n",
       "<p>1427 rows × 7 columns</p>\n",
       "</div>"
      ],
      "text/plain": [
       "                   CVE  CVSS3     EPSS  EPSS Percentile  \\\n",
       "0        CVE-2014-6278    8.8  0.91613          0.99663   \n",
       "1     CVE-2017-1000353    9.8  0.94508          0.99999   \n",
       "2        CVE-2015-7755    9.8  0.91206          0.99636   \n",
       "3       CVE-2025-21043    8.8  0.11622          0.93378   \n",
       "4        CVE-2025-4008    8.8  0.41761          0.97323   \n",
       "...                ...    ...      ...              ...   \n",
       "1422    CVE-2021-27561    9.8  0.94106          0.99902   \n",
       "1423    CVE-2021-40539    9.8  0.94424          0.99979   \n",
       "1424    CVE-2020-10189    9.8  0.94248          0.99924   \n",
       "1425     CVE-2019-8394    6.5  0.87936          0.99441   \n",
       "1426    CVE-2020-29583    9.8  0.94036          0.99894   \n",
       "\n",
       "                                            Description       Vendor  \\\n",
       "0     GNU Bash contains an OS command injection vuln...          GNU   \n",
       "1     Jenkins contains a remote code execution vulne...      Jenkins   \n",
       "2     Juniper ScreenOS contains an improper authenti...      Juniper   \n",
       "3     Samsung mobile devices contain an out-of-bound...      Samsung   \n",
       "4     Smartbedded Meteobridge contains a command inj...  Smartbedded   \n",
       "...                                                 ...          ...   \n",
       "1422  Yealink Device Management contains a server-si...      Yealink   \n",
       "1423  Zoho ManageEngine ADSelfService Plus contains ...         Zoho   \n",
       "1424  Zoho ManageEngine Desktop Central contains a f...         Zoho   \n",
       "1425  Zoho ManageEngine ServiceDesk Plus (SDP) conta...         Zoho   \n",
       "1426  Zyxel firewalls (ATP, USG, VM) and AP Controll...        Zyxel   \n",
       "\n",
       "                Product  \n",
       "0              GNU Bash  \n",
       "1               Jenkins  \n",
       "2              ScreenOS  \n",
       "3        Mobile Devices  \n",
       "4           Meteobridge  \n",
       "...                 ...  \n",
       "1422  Device Management  \n",
       "1423       ManageEngine  \n",
       "1424       ManageEngine  \n",
       "1425       ManageEngine  \n",
       "1426  Multiple Products  \n",
       "\n",
       "[1427 rows x 7 columns]"
      ]
     },
     "execution_count": 6,
     "metadata": {},
     "output_type": "execute_result"
    }
   ],
   "source": [
    "epss_kev_nvd"
   ]
  },
  {
   "cell_type": "markdown",
   "metadata": {},
   "source": [
    "## CISA KEV Score Scatter Plot"
   ]
  },
  {
   "cell_type": "code",
   "execution_count": 7,
   "metadata": {
    "execution": {
     "iopub.execute_input": "2025-10-05T00:35:14.875466Z",
     "iopub.status.busy": "2025-10-05T00:35:14.875209Z",
     "iopub.status.idle": "2025-10-05T00:35:22.418772Z",
     "shell.execute_reply": "2025-10-05T00:35:22.418060Z"
    }
   },
   "outputs": [
    {
     "name": "stderr",
     "output_type": "stream",
     "text": [
      "Matplotlib is building the font cache; this may take a moment.\n"
     ]
    },
    {
     "data": {
      "image/png": "[encoded data removed]",
      "text/plain": [
       "<Figure size 2000x1000 with 1 Axes>"
      ]
     },
     "metadata": {},
     "output_type": "display_data"
    }
   ],
   "source": [
    "ax = epss_kev_nvd.plot.scatter(x='CVSS3',\n",
    "                                 y='EPSS',\n",
    "                                 figsize=(20, 10),\n",
    "                                 title='CISA Known Exploited Vulnerabilities',\n",
    "                                 color='blue')\n",
    "ax.set_xlabel(\"CVSS 3 Base Score\")\n",
    "ax.set_ylabel(\"EPSS Score\")\n",
    "ax.get_figure().savefig('epss_kev_nvd.png')"
   ]
  },
  {
   "cell_type": "markdown",
   "metadata": {},
   "source": [
    "## Export to CVS"
   ]
  },
  {
   "cell_type": "code",
   "execution_count": 8,
   "metadata": {
    "execution": {
     "iopub.execute_input": "2025-10-05T00:35:22.420960Z",
     "iopub.status.busy": "2025-10-05T00:35:22.420680Z",
     "iopub.status.idle": "2025-10-05T00:35:22.440331Z",
     "shell.execute_reply": "2025-10-05T00:35:22.439746Z"
    }
   },
   "outputs": [
    {
     "data": {
      "text/html": [
       "<div>\n",
       "<style scoped>\n",
       "    .dataframe tbody tr th:only-of-type {\n",
       "        vertical-align: middle;\n",
       "    }\n",
       "\n",
       "    .dataframe tbody tr th {\n",
       "        vertical-align: top;\n",
       "    }\n",
       "\n",
       "    .dataframe thead th {\n",
       "        text-align: right;\n",
       "    }\n",
       "</style>\n",
       "<table border=\"1\" class=\"dataframe\">\n",
       "  <thead>\n",
       "    <tr style=\"text-align: right;\">\n",
       "      <th></th>\n",
       "      <th>CVE</th>\n",
       "      <th>CVSS3</th>\n",
       "      <th>EPSS</th>\n",
       "      <th>EPSS Percentile</th>\n",
       "      <th>Description</th>\n",
       "      <th>Vendor</th>\n",
       "      <th>Product</th>\n",
       "    </tr>\n",
       "  </thead>\n",
       "  <tbody>\n",
       "    <tr>\n",
       "      <th>0</th>\n",
       "      <td>CVE-2014-6278</td>\n",
       "      <td>8.8</td>\n",
       "      <td>0.91613</td>\n",
       "      <td>0.99663</td>\n",
       "      <td>GNU Bash contains an OS command injection vuln...</td>\n",
       "      <td>GNU</td>\n",
       "      <td>GNU Bash</td>\n",
       "    </tr>\n",
       "    <tr>\n",
       "      <th>1</th>\n",
       "      <td>CVE-2017-1000353</td>\n",
       "      <td>9.8</td>\n",
       "      <td>0.94508</td>\n",
       "      <td>0.99999</td>\n",
       "      <td>Jenkins contains a remote code execution vulne...</td>\n",
       "      <td>Jenkins</td>\n",
       "      <td>Jenkins</td>\n",
       "    </tr>\n",
       "    <tr>\n",
       "      <th>2</th>\n",
       "      <td>CVE-2015-7755</td>\n",
       "      <td>9.8</td>\n",
       "      <td>0.91206</td>\n",
       "      <td>0.99636</td>\n",
       "      <td>Juniper ScreenOS contains an improper authenti...</td>\n",
       "      <td>Juniper</td>\n",
       "      <td>ScreenOS</td>\n",
       "    </tr>\n",
       "    <tr>\n",
       "      <th>3</th>\n",
       "      <td>CVE-2025-21043</td>\n",
       "      <td>8.8</td>\n",
       "      <td>0.11622</td>\n",
       "      <td>0.93378</td>\n",
       "      <td>Samsung mobile devices contain an out-of-bound...</td>\n",
       "      <td>Samsung</td>\n",
       "      <td>Mobile Devices</td>\n",
       "    </tr>\n",
       "    <tr>\n",
       "      <th>4</th>\n",
       "      <td>CVE-2025-4008</td>\n",
       "      <td>8.8</td>\n",
       "      <td>0.41761</td>\n",
       "      <td>0.97323</td>\n",
       "      <td>Smartbedded Meteobridge contains a command inj...</td>\n",
       "      <td>Smartbedded</td>\n",
       "      <td>Meteobridge</td>\n",
       "    </tr>\n",
       "    <tr>\n",
       "      <th>5</th>\n",
       "      <td>CVE-2025-32463</td>\n",
       "      <td>9.3</td>\n",
       "      <td>0.23605</td>\n",
       "      <td>0.95785</td>\n",
       "      <td>Sudo contains an inclusion of functionality fr...</td>\n",
       "      <td>Sudo</td>\n",
       "      <td>Sudo</td>\n",
       "    </tr>\n",
       "    <tr>\n",
       "      <th>6</th>\n",
       "      <td>CVE-2025-59689</td>\n",
       "      <td>6.1</td>\n",
       "      <td>0.21269</td>\n",
       "      <td>0.95481</td>\n",
       "      <td>Libraesva Email Security Gateway (ESG) contain...</td>\n",
       "      <td>Libraesva</td>\n",
       "      <td>Email Security Gateway</td>\n",
       "    </tr>\n",
       "    <tr>\n",
       "      <th>7</th>\n",
       "      <td>CVE-2025-10035</td>\n",
       "      <td>10.0</td>\n",
       "      <td>0.81064</td>\n",
       "      <td>0.99117</td>\n",
       "      <td>Fortra GoAnywhere MFT contains a deserializati...</td>\n",
       "      <td>Fortra</td>\n",
       "      <td>GoAnywhere MFT</td>\n",
       "    </tr>\n",
       "    <tr>\n",
       "      <th>8</th>\n",
       "      <td>CVE-2025-20352</td>\n",
       "      <td>7.7</td>\n",
       "      <td>0.00864</td>\n",
       "      <td>0.74326</td>\n",
       "      <td>Cisco IOS and IOS XE contains a stack-based bu...</td>\n",
       "      <td>Cisco</td>\n",
       "      <td>IOS and IOS XE</td>\n",
       "    </tr>\n",
       "    <tr>\n",
       "      <th>9</th>\n",
       "      <td>CVE-2021-21311</td>\n",
       "      <td>7.2</td>\n",
       "      <td>0.94229</td>\n",
       "      <td>0.99920</td>\n",
       "      <td>Adminer contains a server-side request forgery...</td>\n",
       "      <td>Adminer</td>\n",
       "      <td>Adminer</td>\n",
       "    </tr>\n",
       "  </tbody>\n",
       "</table>\n",
       "</div>"
      ],
      "text/plain": [
       "                CVE  CVSS3     EPSS  EPSS Percentile  \\\n",
       "0     CVE-2014-6278    8.8  0.91613          0.99663   \n",
       "1  CVE-2017-1000353    9.8  0.94508          0.99999   \n",
       "2     CVE-2015-7755    9.8  0.91206          0.99636   \n",
       "3    CVE-2025-21043    8.8  0.11622          0.93378   \n",
       "4     CVE-2025-4008    8.8  0.41761          0.97323   \n",
       "5    CVE-2025-32463    9.3  0.23605          0.95785   \n",
       "6    CVE-2025-59689    6.1  0.21269          0.95481   \n",
       "7    CVE-2025-10035   10.0  0.81064          0.99117   \n",
       "8    CVE-2025-20352    7.7  0.00864          0.74326   \n",
       "9    CVE-2021-21311    7.2  0.94229          0.99920   \n",
       "\n",
       "                                         Description       Vendor  \\\n",
       "0  GNU Bash contains an OS command injection vuln...          GNU   \n",
       "1  Jenkins contains a remote code execution vulne...      Jenkins   \n",
       "2  Juniper ScreenOS contains an improper authenti...      Juniper   \n",
       "3  Samsung mobile devices contain an out-of-bound...      Samsung   \n",
       "4  Smartbedded Meteobridge contains a command inj...  Smartbedded   \n",
       "5  Sudo contains an inclusion of functionality fr...         Sudo   \n",
       "6  Libraesva Email Security Gateway (ESG) contain...    Libraesva   \n",
       "7  Fortra GoAnywhere MFT contains a deserializati...       Fortra   \n",
       "8  Cisco IOS and IOS XE contains a stack-based bu...        Cisco   \n",
       "9  Adminer contains a server-side request forgery...      Adminer   \n",
       "\n",
       "                  Product  \n",
       "0                GNU Bash  \n",
       "1                 Jenkins  \n",
       "2                ScreenOS  \n",
       "3          Mobile Devices  \n",
       "4             Meteobridge  \n",
       "5                    Sudo  \n",
       "6  Email Security Gateway  \n",
       "7          GoAnywhere MFT  \n",
       "8          IOS and IOS XE  \n",
       "9                 Adminer  "
      ]
     },
     "execution_count": 8,
     "metadata": {},
     "output_type": "execute_result"
    }
   ],
   "source": [
    "epss_kev_nvd.to_csv(\"epss_kev_nvd.csv\", index=False)\n",
    "epss_kev_nvd.head(10)"
   ]
  }
 ],
 "metadata": {
  "kernelspec": {
   "display_name": "Python 3",
   "language": "python",
   "name": "python3"
  },
  "language_info": {
   "codemirror_mode": {
    "name": "ipython",
    "version": 3
   },
   "file_extension": ".py",
   "mimetype": "text/x-python",
   "name": "python",
   "nbconvert_exporter": "python",
   "pygments_lexer": "ipython3",
   "version": "3.10.18"
  }
 },
 "nbformat": 4,
 "nbformat_minor": 4
}
